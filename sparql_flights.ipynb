{
 "cells": [
  {
   "cell_type": "code",
   "execution_count": 3,
   "metadata": {},
   "outputs": [
    {
     "name": "stdout",
     "output_type": "stream",
     "text": [
      "\n",
      "A pyjnius.autoclass exception has been raised.\n",
      "Either the JVM parameters passed have not been recognised as valid or there may be an issue with the installation of the JVM.\n",
      "\n"
     ]
    },
    {
     "ename": "Exception",
     "evalue": "Unable to find JAVA_HOME",
     "output_type": "error",
     "traceback": [
      "\u001b[1;31m---------------------------------------------------------------------------\u001b[0m",
      "\u001b[1;31mException\u001b[0m                                 Traceback (most recent call last)",
      "Cell \u001b[1;32mIn[3], line 3\u001b[0m\n\u001b[0;32m      1\u001b[0m \u001b[38;5;28;01mimport\u001b[39;00m\u001b[38;5;250m \u001b[39m\u001b[38;5;21;01mpysparql_anything\u001b[39;00m\u001b[38;5;250m \u001b[39m\u001b[38;5;28;01mas\u001b[39;00m\u001b[38;5;250m \u001b[39m\u001b[38;5;21;01msa\u001b[39;00m\n\u001b[1;32m----> 3\u001b[0m engine \u001b[38;5;241m=\u001b[39m \u001b[43msa\u001b[49m\u001b[38;5;241;43m.\u001b[39;49m\u001b[43mSparqlAnything\u001b[49m\u001b[43m(\u001b[49m\u001b[43m)\u001b[49m\n\u001b[0;32m      5\u001b[0m query_file \u001b[38;5;241m=\u001b[39m \u001b[38;5;124m\"\u001b[39m\u001b[38;5;124mqueries/flights_to_rdf.rq\u001b[39m\u001b[38;5;124m\"\u001b[39m\n\u001b[0;32m      6\u001b[0m json_file \u001b[38;5;241m=\u001b[39m \u001b[38;5;124m\"\u001b[39m\u001b[38;5;124mflights_sample.json\u001b[39m\u001b[38;5;124m\"\u001b[39m\n",
      "File \u001b[1;32mc:\\Users\\izate\\anaconda3\\envs\\kg\\lib\\site-packages\\pysparql_anything\\sparql_anything.py:26\u001b[0m, in \u001b[0;36mSingleton.__call__\u001b[1;34m(cls, *args, **kwargs)\u001b[0m\n\u001b[0;32m     24\u001b[0m \u001b[38;5;28;01mdef\u001b[39;00m\u001b[38;5;250m \u001b[39m\u001b[38;5;21m__call__\u001b[39m(\u001b[38;5;28mcls\u001b[39m, \u001b[38;5;241m*\u001b[39margs, \u001b[38;5;241m*\u001b[39m\u001b[38;5;241m*\u001b[39mkwargs):\n\u001b[0;32m     25\u001b[0m     \u001b[38;5;28;01mif\u001b[39;00m \u001b[38;5;28mcls\u001b[39m\u001b[38;5;241m.\u001b[39m_instance \u001b[38;5;129;01mis\u001b[39;00m \u001b[38;5;28;01mNone\u001b[39;00m:\n\u001b[1;32m---> 26\u001b[0m         instance \u001b[38;5;241m=\u001b[39m \u001b[38;5;28msuper\u001b[39m()\u001b[38;5;241m.\u001b[39m\u001b[38;5;21m__call__\u001b[39m(\u001b[38;5;241m*\u001b[39margs, \u001b[38;5;241m*\u001b[39m\u001b[38;5;241m*\u001b[39mkwargs)\n\u001b[0;32m     27\u001b[0m         \u001b[38;5;28mcls\u001b[39m\u001b[38;5;241m.\u001b[39m_instance \u001b[38;5;241m=\u001b[39m instance\n\u001b[0;32m     28\u001b[0m     \u001b[38;5;28;01mreturn\u001b[39;00m \u001b[38;5;28mcls\u001b[39m\u001b[38;5;241m.\u001b[39m_instance\n",
      "File \u001b[1;32mc:\\Users\\izate\\anaconda3\\envs\\kg\\lib\\site-packages\\pysparql_anything\\sparql_anything.py:40\u001b[0m, in \u001b[0;36mSparqlAnything.__init__\u001b[1;34m(self, *jvm_options)\u001b[0m\n\u001b[0;32m     39\u001b[0m \u001b[38;5;28;01mdef\u001b[39;00m\u001b[38;5;250m \u001b[39m\u001b[38;5;21m__init__\u001b[39m(\u001b[38;5;28mself\u001b[39m, \u001b[38;5;241m*\u001b[39mjvm_options: \u001b[38;5;28mstr\u001b[39m) \u001b[38;5;241m-\u001b[39m\u001b[38;5;241m>\u001b[39m \u001b[38;5;28;01mNone\u001b[39;00m:\n\u001b[1;32m---> 40\u001b[0m     \u001b[38;5;28mself\u001b[39m\u001b[38;5;241m.\u001b[39mreceiver \u001b[38;5;241m=\u001b[39m \u001b[43mSPARQLAnythingReflection\u001b[49m\u001b[43m(\u001b[49m\u001b[43mjvm_options\u001b[49m\u001b[43m)\u001b[49m\n",
      "File \u001b[1;32mc:\\Users\\izate\\anaconda3\\envs\\kg\\lib\\site-packages\\pysparql_anything\\sparql_anything_reflection.py:45\u001b[0m, in \u001b[0;36mSPARQLAnythingReflection.__init__\u001b[1;34m(self, jvm_options, jar_main_path)\u001b[0m\n\u001b[0;32m     43\u001b[0m     jnius_config\u001b[38;5;241m.\u001b[39mset_classpath(get_path2jar())\n\u001b[0;32m     44\u001b[0m     \u001b[38;5;66;03m# Starts the JVM and reflects the SPARQLAnything class:\u001b[39;00m\n\u001b[1;32m---> 45\u001b[0m     \u001b[38;5;28;01mfrom\u001b[39;00m\u001b[38;5;250m \u001b[39m\u001b[38;5;21;01mjnius\u001b[39;00m\u001b[38;5;250m \u001b[39m\u001b[38;5;28;01mimport\u001b[39;00m autoclass\n\u001b[0;32m     46\u001b[0m     \u001b[38;5;28mself\u001b[39m\u001b[38;5;241m.\u001b[39mreflection \u001b[38;5;241m=\u001b[39m autoclass(jar_main_path)\n\u001b[0;32m     47\u001b[0m \u001b[38;5;28;01mexcept\u001b[39;00m \u001b[38;5;167;01mValueError\u001b[39;00m:\n",
      "File \u001b[1;32mc:\\Users\\izate\\anaconda3\\envs\\kg\\lib\\site-packages\\jnius\\__init__.py:18\u001b[0m\n\u001b[0;32m     16\u001b[0m \u001b[38;5;28;01mif\u001b[39;00m sys\u001b[38;5;241m.\u001b[39mplatform \u001b[38;5;241m==\u001b[39m \u001b[38;5;124m'\u001b[39m\u001b[38;5;124mwin32\u001b[39m\u001b[38;5;124m'\u001b[39m \u001b[38;5;129;01mand\u001b[39;00m sys\u001b[38;5;241m.\u001b[39mversion_info \u001b[38;5;241m>\u001b[39m\u001b[38;5;241m=\u001b[39m (\u001b[38;5;241m3\u001b[39m, \u001b[38;5;241m8\u001b[39m):\n\u001b[0;32m     17\u001b[0m     path \u001b[38;5;241m=\u001b[39m os\u001b[38;5;241m.\u001b[39mpath\u001b[38;5;241m.\u001b[39mdirname(\u001b[38;5;18m__file__\u001b[39m)\n\u001b[1;32m---> 18\u001b[0m     java \u001b[38;5;241m=\u001b[39m \u001b[43mget_java_setup\u001b[49m\u001b[43m(\u001b[49m\u001b[43msys\u001b[49m\u001b[38;5;241;43m.\u001b[39;49m\u001b[43mplatform\u001b[49m\u001b[43m)\u001b[49m\n\u001b[0;32m     19\u001b[0m     jdk_home \u001b[38;5;241m=\u001b[39m java\u001b[38;5;241m.\u001b[39mget_javahome()\n\u001b[0;32m     20\u001b[0m     \u001b[38;5;28;01mwith\u001b[39;00m os\u001b[38;5;241m.\u001b[39madd_dll_directory(path):\n",
      "File \u001b[1;32mc:\\Users\\izate\\anaconda3\\envs\\kg\\lib\\site-packages\\jnius\\env.py:60\u001b[0m, in \u001b[0;36mget_java_setup\u001b[1;34m(platform)\u001b[0m\n\u001b[0;32m     58\u001b[0m \u001b[38;5;66;03m# go hunting for Javac and Java programs, in that order\u001b[39;00m\n\u001b[0;32m     59\u001b[0m \u001b[38;5;28;01mif\u001b[39;00m \u001b[38;5;129;01mnot\u001b[39;00m is_set(JAVA_HOME):\n\u001b[1;32m---> 60\u001b[0m     JAVA_HOME \u001b[38;5;241m=\u001b[39m \u001b[43mget_jdk_home\u001b[49m\u001b[43m(\u001b[49m\u001b[43mplatform\u001b[49m\u001b[43m)\u001b[49m\n\u001b[0;32m     62\u001b[0m \u001b[38;5;28;01mif\u001b[39;00m \u001b[38;5;129;01mnot\u001b[39;00m is_set(JAVA_HOME):\n\u001b[0;32m     63\u001b[0m     JAVA_HOME \u001b[38;5;241m=\u001b[39m get_jre_home(platform)\n",
      "File \u001b[1;32mc:\\Users\\izate\\anaconda3\\envs\\kg\\lib\\site-packages\\jnius\\env.py:335\u001b[0m, in \u001b[0;36mget_jdk_home\u001b[1;34m(platform)\u001b[0m\n\u001b[0;32m    333\u001b[0m TMP_JDK_HOME \u001b[38;5;241m=\u001b[39m getenv(\u001b[38;5;124m'\u001b[39m\u001b[38;5;124mJAVA_HOME\u001b[39m\u001b[38;5;124m'\u001b[39m)\n\u001b[0;32m    334\u001b[0m \u001b[38;5;28;01mif\u001b[39;00m \u001b[38;5;129;01mnot\u001b[39;00m TMP_JDK_HOME:\n\u001b[1;32m--> 335\u001b[0m     \u001b[38;5;28;01mraise\u001b[39;00m \u001b[38;5;167;01mException\u001b[39;00m(\u001b[38;5;124m'\u001b[39m\u001b[38;5;124mUnable to find JAVA_HOME\u001b[39m\u001b[38;5;124m'\u001b[39m)\n\u001b[0;32m    337\u001b[0m \u001b[38;5;66;03m# Remove /bin if it's appended to JAVA_HOME\u001b[39;00m\n\u001b[0;32m    338\u001b[0m \u001b[38;5;28;01mif\u001b[39;00m TMP_JDK_HOME[\u001b[38;5;241m-\u001b[39m\u001b[38;5;241m3\u001b[39m:] \u001b[38;5;241m==\u001b[39m \u001b[38;5;124m'\u001b[39m\u001b[38;5;124mbin\u001b[39m\u001b[38;5;124m'\u001b[39m:\n",
      "\u001b[1;31mException\u001b[0m: Unable to find JAVA_HOME"
     ]
    }
   ],
   "source": [
    "import pysparql_anything as sa\n",
    "\n",
    "engine = sa.SparqlAnything()\n",
    "\n",
    "query_file = \"queries/flights_to_rdf.rq\"\n",
    "json_file = \"flights_sample.json\"\n",
    "\n",
    "rdf_output = engine.run(\n",
    "    query=query_file,\n",
    "    values={\"location\": json_file},\n",
    "    output=\"flights_kg.ttl\",\n",
    "    format=\"ttl\"\n",
    ")"
   ]
  },
  {
   "cell_type": "code",
   "execution_count": 13,
   "metadata": {},
   "outputs": [
    {
     "name": "stderr",
     "output_type": "stream",
     "text": [
      "[main] INFO io.github.sparqlanything.cli.SPARQLAnything - Loading data from: flights_kg.ttl\n",
      "[main] INFO io.github.sparqlanything.cli.SPARQLAnything - Load file: flights_kg.ttl\n"
     ]
    },
    {
     "data": {
      "text/html": [
       "<div>\n",
       "<style scoped>\n",
       "    .dataframe tbody tr th:only-of-type {\n",
       "        vertical-align: middle;\n",
       "    }\n",
       "\n",
       "    .dataframe tbody tr th {\n",
       "        vertical-align: top;\n",
       "    }\n",
       "\n",
       "    .dataframe thead th {\n",
       "        text-align: right;\n",
       "    }\n",
       "</style>\n",
       "<table border=\"1\" class=\"dataframe\">\n",
       "  <thead>\n",
       "    <tr style=\"text-align: right;\">\n",
       "      <th></th>\n",
       "      <th>flightNumber</th>\n",
       "      <th>departureIATA</th>\n",
       "      <th>arrivalIATA</th>\n",
       "      <th>departureTimeUTC</th>\n",
       "      <th>arrivalTimeUTC</th>\n",
       "      <th>operatingDays</th>\n",
       "    </tr>\n",
       "  </thead>\n",
       "  <tbody>\n",
       "    <tr>\n",
       "      <th>0</th>\n",
       "      <td>789</td>\n",
       "      <td>SFO</td>\n",
       "      <td>FRA</td>\n",
       "      <td>07:00</td>\n",
       "      <td>23:00</td>\n",
       "      <td>wed, sat</td>\n",
       "    </tr>\n",
       "    <tr>\n",
       "      <th>1</th>\n",
       "      <td>123</td>\n",
       "      <td>JFK</td>\n",
       "      <td>LHR</td>\n",
       "      <td>15:30</td>\n",
       "      <td>01:30</td>\n",
       "      <td>tue, thu, sun</td>\n",
       "    </tr>\n",
       "    <tr>\n",
       "      <th>2</th>\n",
       "      <td>456</td>\n",
       "      <td>ATL</td>\n",
       "      <td>AMS</td>\n",
       "      <td>19:00</td>\n",
       "      <td>09:00</td>\n",
       "      <td>mon, fri</td>\n",
       "    </tr>\n",
       "  </tbody>\n",
       "</table>\n",
       "</div>"
      ],
      "text/plain": [
       "  flightNumber departureIATA arrivalIATA departureTimeUTC arrivalTimeUTC  \\\n",
       "0          789           SFO         FRA            07:00          23:00   \n",
       "1          123           JFK         LHR            15:30          01:30   \n",
       "2          456           ATL         AMS            19:00          09:00   \n",
       "\n",
       "   operatingDays  \n",
       "0       wed, sat  \n",
       "1  tue, thu, sun  \n",
       "2       mon, fri  "
      ]
     },
     "execution_count": 13,
     "metadata": {},
     "output_type": "execute_result"
    }
   ],
   "source": [
    "import pandas as pd\n",
    "\n",
    "query_file = \"queries/test_query.rq\"\n",
    "dataset_file = \"flights_kg.ttl\"\n",
    "\n",
    "df = engine.select(\n",
    "    query=query_file,\n",
    "    l=dataset_file,\n",
    "    output_type=pd.DataFrame\n",
    ")\n",
    "\n",
    "df"
   ]
  },
  {
   "cell_type": "code",
   "execution_count": 2,
   "metadata": {},
   "outputs": [
    {
     "name": "stdout",
     "output_type": "stream",
     "text": [
      "Welcome to PySPARQL Anything 0.9.0.3, the SPARQL Anything Python library.\n",
      "No SPARQL Anything executable jar has been found in the installation folder.\n",
      "Proceeding to download the SPARQL Anything 0.9.0 jar:\n"
     ]
    },
    {
     "name": "stderr",
     "output_type": "stream",
     "text": [
      "100%|\u001b[32m██████████\u001b[0m| 198M/198M [00:19<00:00, 10.9MiB/s] \n"
     ]
    },
    {
     "name": "stdout",
     "output_type": "stream",
     "text": [
      "The Download was successful!\n",
      "The system is now ready for use!\n",
      "\n",
      "A pyjnius.autoclass exception has been raised.\n",
      "Either the JVM parameters passed have not been recognised as valid or there may be an issue with the installation of the JVM.\n",
      "\n"
     ]
    },
    {
     "ename": "Exception",
     "evalue": "Unable to find JAVA_HOME",
     "output_type": "error",
     "traceback": [
      "\u001b[1;31m---------------------------------------------------------------------------\u001b[0m",
      "\u001b[1;31mException\u001b[0m                                 Traceback (most recent call last)",
      "Cell \u001b[1;32mIn[2], line 5\u001b[0m\n\u001b[0;32m      2\u001b[0m \u001b[38;5;28;01mimport\u001b[39;00m\u001b[38;5;250m \u001b[39m\u001b[38;5;21;01mpandas\u001b[39;00m\u001b[38;5;250m \u001b[39m\u001b[38;5;28;01mas\u001b[39;00m\u001b[38;5;250m \u001b[39m\u001b[38;5;21;01mpd\u001b[39;00m\n\u001b[0;32m      4\u001b[0m \u001b[38;5;66;03m# Initialize the SparqlAnything engine\u001b[39;00m\n\u001b[1;32m----> 5\u001b[0m engine \u001b[38;5;241m=\u001b[39m \u001b[43msa\u001b[49m\u001b[38;5;241;43m.\u001b[39;49m\u001b[43mSparqlAnything\u001b[49m\u001b[43m(\u001b[49m\u001b[43m)\u001b[49m\n\u001b[0;32m      7\u001b[0m \u001b[38;5;66;03m# Define the query file and any required parameters\u001b[39;00m\n\u001b[0;32m      8\u001b[0m query_file \u001b[38;5;241m=\u001b[39m \u001b[38;5;124m\"\u001b[39m\u001b[38;5;124mqueries/modlin.rq\u001b[39m\u001b[38;5;124m\"\u001b[39m\n",
      "File \u001b[1;32mc:\\Users\\izate\\anaconda3\\envs\\kg\\lib\\site-packages\\pysparql_anything\\sparql_anything.py:26\u001b[0m, in \u001b[0;36mSingleton.__call__\u001b[1;34m(cls, *args, **kwargs)\u001b[0m\n\u001b[0;32m     24\u001b[0m \u001b[38;5;28;01mdef\u001b[39;00m\u001b[38;5;250m \u001b[39m\u001b[38;5;21m__call__\u001b[39m(\u001b[38;5;28mcls\u001b[39m, \u001b[38;5;241m*\u001b[39margs, \u001b[38;5;241m*\u001b[39m\u001b[38;5;241m*\u001b[39mkwargs):\n\u001b[0;32m     25\u001b[0m     \u001b[38;5;28;01mif\u001b[39;00m \u001b[38;5;28mcls\u001b[39m\u001b[38;5;241m.\u001b[39m_instance \u001b[38;5;129;01mis\u001b[39;00m \u001b[38;5;28;01mNone\u001b[39;00m:\n\u001b[1;32m---> 26\u001b[0m         instance \u001b[38;5;241m=\u001b[39m \u001b[38;5;28msuper\u001b[39m()\u001b[38;5;241m.\u001b[39m\u001b[38;5;21m__call__\u001b[39m(\u001b[38;5;241m*\u001b[39margs, \u001b[38;5;241m*\u001b[39m\u001b[38;5;241m*\u001b[39mkwargs)\n\u001b[0;32m     27\u001b[0m         \u001b[38;5;28mcls\u001b[39m\u001b[38;5;241m.\u001b[39m_instance \u001b[38;5;241m=\u001b[39m instance\n\u001b[0;32m     28\u001b[0m     \u001b[38;5;28;01mreturn\u001b[39;00m \u001b[38;5;28mcls\u001b[39m\u001b[38;5;241m.\u001b[39m_instance\n",
      "File \u001b[1;32mc:\\Users\\izate\\anaconda3\\envs\\kg\\lib\\site-packages\\pysparql_anything\\sparql_anything.py:40\u001b[0m, in \u001b[0;36mSparqlAnything.__init__\u001b[1;34m(self, *jvm_options)\u001b[0m\n\u001b[0;32m     39\u001b[0m \u001b[38;5;28;01mdef\u001b[39;00m\u001b[38;5;250m \u001b[39m\u001b[38;5;21m__init__\u001b[39m(\u001b[38;5;28mself\u001b[39m, \u001b[38;5;241m*\u001b[39mjvm_options: \u001b[38;5;28mstr\u001b[39m) \u001b[38;5;241m-\u001b[39m\u001b[38;5;241m>\u001b[39m \u001b[38;5;28;01mNone\u001b[39;00m:\n\u001b[1;32m---> 40\u001b[0m     \u001b[38;5;28mself\u001b[39m\u001b[38;5;241m.\u001b[39mreceiver \u001b[38;5;241m=\u001b[39m \u001b[43mSPARQLAnythingReflection\u001b[49m\u001b[43m(\u001b[49m\u001b[43mjvm_options\u001b[49m\u001b[43m)\u001b[49m\n",
      "File \u001b[1;32mc:\\Users\\izate\\anaconda3\\envs\\kg\\lib\\site-packages\\pysparql_anything\\sparql_anything_reflection.py:45\u001b[0m, in \u001b[0;36mSPARQLAnythingReflection.__init__\u001b[1;34m(self, jvm_options, jar_main_path)\u001b[0m\n\u001b[0;32m     43\u001b[0m     jnius_config\u001b[38;5;241m.\u001b[39mset_classpath(get_path2jar())\n\u001b[0;32m     44\u001b[0m     \u001b[38;5;66;03m# Starts the JVM and reflects the SPARQLAnything class:\u001b[39;00m\n\u001b[1;32m---> 45\u001b[0m     \u001b[38;5;28;01mfrom\u001b[39;00m\u001b[38;5;250m \u001b[39m\u001b[38;5;21;01mjnius\u001b[39;00m\u001b[38;5;250m \u001b[39m\u001b[38;5;28;01mimport\u001b[39;00m autoclass\n\u001b[0;32m     46\u001b[0m     \u001b[38;5;28mself\u001b[39m\u001b[38;5;241m.\u001b[39mreflection \u001b[38;5;241m=\u001b[39m autoclass(jar_main_path)\n\u001b[0;32m     47\u001b[0m \u001b[38;5;28;01mexcept\u001b[39;00m \u001b[38;5;167;01mValueError\u001b[39;00m:\n",
      "File \u001b[1;32mc:\\Users\\izate\\anaconda3\\envs\\kg\\lib\\site-packages\\jnius\\__init__.py:18\u001b[0m\n\u001b[0;32m     16\u001b[0m \u001b[38;5;28;01mif\u001b[39;00m sys\u001b[38;5;241m.\u001b[39mplatform \u001b[38;5;241m==\u001b[39m \u001b[38;5;124m'\u001b[39m\u001b[38;5;124mwin32\u001b[39m\u001b[38;5;124m'\u001b[39m \u001b[38;5;129;01mand\u001b[39;00m sys\u001b[38;5;241m.\u001b[39mversion_info \u001b[38;5;241m>\u001b[39m\u001b[38;5;241m=\u001b[39m (\u001b[38;5;241m3\u001b[39m, \u001b[38;5;241m8\u001b[39m):\n\u001b[0;32m     17\u001b[0m     path \u001b[38;5;241m=\u001b[39m os\u001b[38;5;241m.\u001b[39mpath\u001b[38;5;241m.\u001b[39mdirname(\u001b[38;5;18m__file__\u001b[39m)\n\u001b[1;32m---> 18\u001b[0m     java \u001b[38;5;241m=\u001b[39m \u001b[43mget_java_setup\u001b[49m\u001b[43m(\u001b[49m\u001b[43msys\u001b[49m\u001b[38;5;241;43m.\u001b[39;49m\u001b[43mplatform\u001b[49m\u001b[43m)\u001b[49m\n\u001b[0;32m     19\u001b[0m     jdk_home \u001b[38;5;241m=\u001b[39m java\u001b[38;5;241m.\u001b[39mget_javahome()\n\u001b[0;32m     20\u001b[0m     \u001b[38;5;28;01mwith\u001b[39;00m os\u001b[38;5;241m.\u001b[39madd_dll_directory(path):\n",
      "File \u001b[1;32mc:\\Users\\izate\\anaconda3\\envs\\kg\\lib\\site-packages\\jnius\\env.py:60\u001b[0m, in \u001b[0;36mget_java_setup\u001b[1;34m(platform)\u001b[0m\n\u001b[0;32m     58\u001b[0m \u001b[38;5;66;03m# go hunting for Javac and Java programs, in that order\u001b[39;00m\n\u001b[0;32m     59\u001b[0m \u001b[38;5;28;01mif\u001b[39;00m \u001b[38;5;129;01mnot\u001b[39;00m is_set(JAVA_HOME):\n\u001b[1;32m---> 60\u001b[0m     JAVA_HOME \u001b[38;5;241m=\u001b[39m \u001b[43mget_jdk_home\u001b[49m\u001b[43m(\u001b[49m\u001b[43mplatform\u001b[49m\u001b[43m)\u001b[49m\n\u001b[0;32m     62\u001b[0m \u001b[38;5;28;01mif\u001b[39;00m \u001b[38;5;129;01mnot\u001b[39;00m is_set(JAVA_HOME):\n\u001b[0;32m     63\u001b[0m     JAVA_HOME \u001b[38;5;241m=\u001b[39m get_jre_home(platform)\n",
      "File \u001b[1;32mc:\\Users\\izate\\anaconda3\\envs\\kg\\lib\\site-packages\\jnius\\env.py:335\u001b[0m, in \u001b[0;36mget_jdk_home\u001b[1;34m(platform)\u001b[0m\n\u001b[0;32m    333\u001b[0m TMP_JDK_HOME \u001b[38;5;241m=\u001b[39m getenv(\u001b[38;5;124m'\u001b[39m\u001b[38;5;124mJAVA_HOME\u001b[39m\u001b[38;5;124m'\u001b[39m)\n\u001b[0;32m    334\u001b[0m \u001b[38;5;28;01mif\u001b[39;00m \u001b[38;5;129;01mnot\u001b[39;00m TMP_JDK_HOME:\n\u001b[1;32m--> 335\u001b[0m     \u001b[38;5;28;01mraise\u001b[39;00m \u001b[38;5;167;01mException\u001b[39;00m(\u001b[38;5;124m'\u001b[39m\u001b[38;5;124mUnable to find JAVA_HOME\u001b[39m\u001b[38;5;124m'\u001b[39m)\n\u001b[0;32m    337\u001b[0m \u001b[38;5;66;03m# Remove /bin if it's appended to JAVA_HOME\u001b[39;00m\n\u001b[0;32m    338\u001b[0m \u001b[38;5;28;01mif\u001b[39;00m TMP_JDK_HOME[\u001b[38;5;241m-\u001b[39m\u001b[38;5;241m3\u001b[39m:] \u001b[38;5;241m==\u001b[39m \u001b[38;5;124m'\u001b[39m\u001b[38;5;124mbin\u001b[39m\u001b[38;5;124m'\u001b[39m:\n",
      "\u001b[1;31mException\u001b[0m: Unable to find JAVA_HOME"
     ]
    }
   ],
   "source": [
    "import pysparql_anything as sa\n",
    "import pandas as pd\n",
    "\n",
    "# Initialize the SparqlAnything engine\n",
    "engine = sa.SparqlAnything()\n",
    "\n",
    "# Define the query file and any required parameters\n",
    "query_file = \"queries/modlin.rq\"\n",
    "\n",
    "# Execute the query and retrieve the results directly as a pandas DataFrame\n",
    "df = engine.select(\n",
    "    query=query_file,\n",
    "    values={\"location\": \"https://www.modlinairport.pl/pasazer/rozklad-lotow\"},\n",
    "    output_type=pd.DataFrame\n",
    ")\n",
    "\n",
    "# Display the resulting DataFrame\n",
    "print(df)\n"
   ]
  },
  {
   "cell_type": "code",
   "execution_count": null,
   "metadata": {},
   "outputs": [],
   "source": []
  }
 ],
 "metadata": {
  "kernelspec": {
   "display_name": "kg",
   "language": "python",
   "name": "python3"
  },
  "language_info": {
   "codemirror_mode": {
    "name": "ipython",
    "version": 3
   },
   "file_extension": ".py",
   "mimetype": "text/x-python",
   "name": "python",
   "nbconvert_exporter": "python",
   "pygments_lexer": "ipython3",
   "version": "3.10.15"
  }
 },
 "nbformat": 4,
 "nbformat_minor": 2
}
