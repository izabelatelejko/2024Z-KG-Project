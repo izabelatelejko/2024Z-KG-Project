{
 "cells": [
  {
   "cell_type": "code",
   "execution_count": 8,
   "metadata": {},
   "outputs": [],
   "source": [
    "import pysparql_anything as sa\n",
    "\n",
    "engine = sa.SparqlAnything()\n",
    "\n",
    "query_file = \"queries/flights_to_rdf.rq\"\n",
    "json_file = \"flights_sample.json\"\n",
    "\n",
    "rdf_output = engine.run(\n",
    "    query=query_file,\n",
    "    values={\"location\": json_file},\n",
    "    output=\"flights_kg.ttl\",\n",
    "    format=\"ttl\"\n",
    ")"
   ]
  },
  {
   "cell_type": "code",
   "execution_count": 9,
   "metadata": {},
   "outputs": [
    {
     "name": "stderr",
     "output_type": "stream",
     "text": [
      "[main] INFO io.github.sparqlanything.cli.SPARQLAnything - Loading data from: flights_kg.ttl\n",
      "[main] INFO io.github.sparqlanything.cli.SPARQLAnything - Load file: flights_kg.ttl\n"
     ]
    },
    {
     "data": {
      "text/html": [
       "<div>\n",
       "<style scoped>\n",
       "    .dataframe tbody tr th:only-of-type {\n",
       "        vertical-align: middle;\n",
       "    }\n",
       "\n",
       "    .dataframe tbody tr th {\n",
       "        vertical-align: top;\n",
       "    }\n",
       "\n",
       "    .dataframe thead th {\n",
       "        text-align: right;\n",
       "    }\n",
       "</style>\n",
       "<table border=\"1\" class=\"dataframe\">\n",
       "  <thead>\n",
       "    <tr style=\"text-align: right;\">\n",
       "      <th></th>\n",
       "      <th>FlightNumber</th>\n",
       "      <th>DepartureIATA</th>\n",
       "      <th>ArrivalIATA</th>\n",
       "      <th>DepartureTimeUTC</th>\n",
       "      <th>ArrivalTimeUTC</th>\n",
       "      <th>OperatingDays</th>\n",
       "    </tr>\n",
       "  </thead>\n",
       "  <tbody>\n",
       "    <tr>\n",
       "      <th>0</th>\n",
       "      <td>789</td>\n",
       "      <td>SFO</td>\n",
       "      <td>FRA</td>\n",
       "      <td>07:00</td>\n",
       "      <td>23:00</td>\n",
       "      <td>wed, sat</td>\n",
       "    </tr>\n",
       "    <tr>\n",
       "      <th>1</th>\n",
       "      <td>123</td>\n",
       "      <td>JFK</td>\n",
       "      <td>LHR</td>\n",
       "      <td>15:30</td>\n",
       "      <td>01:30</td>\n",
       "      <td>tue, thu, sun</td>\n",
       "    </tr>\n",
       "    <tr>\n",
       "      <th>2</th>\n",
       "      <td>456</td>\n",
       "      <td>ATL</td>\n",
       "      <td>AMS</td>\n",
       "      <td>19:00</td>\n",
       "      <td>09:00</td>\n",
       "      <td>mon, fri</td>\n",
       "    </tr>\n",
       "  </tbody>\n",
       "</table>\n",
       "</div>"
      ],
      "text/plain": [
       "  FlightNumber DepartureIATA ArrivalIATA DepartureTimeUTC ArrivalTimeUTC  \\\n",
       "0          789           SFO         FRA            07:00          23:00   \n",
       "1          123           JFK         LHR            15:30          01:30   \n",
       "2          456           ATL         AMS            19:00          09:00   \n",
       "\n",
       "   OperatingDays  \n",
       "0       wed, sat  \n",
       "1  tue, thu, sun  \n",
       "2       mon, fri  "
      ]
     },
     "execution_count": 9,
     "metadata": {},
     "output_type": "execute_result"
    }
   ],
   "source": [
    "import pandas as pd\n",
    "\n",
    "query_file = \"queries/test_query.rq\"\n",
    "dataset_file = \"flights_kg.ttl\"\n",
    "\n",
    "df = engine.select(\n",
    "    query=query_file,\n",
    "    l=dataset_file,\n",
    "    output_type=pd.DataFrame\n",
    ")\n",
    "\n",
    "df"
   ]
  }
 ],
 "metadata": {
  "kernelspec": {
   "display_name": "kgraphs",
   "language": "python",
   "name": "python3"
  },
  "language_info": {
   "codemirror_mode": {
    "name": "ipython",
    "version": 3
   },
   "file_extension": ".py",
   "mimetype": "text/x-python",
   "name": "python",
   "nbconvert_exporter": "python",
   "pygments_lexer": "ipython3",
   "version": "3.10.15"
  }
 },
 "nbformat": 4,
 "nbformat_minor": 2
}
